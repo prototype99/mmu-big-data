{
 "nbformat": 4,
 "nbformat_minor": 0,
 "metadata": {
  "colab": {
   "name": "week5_cycleHire.ipynb",
   "provenance": [],
   "collapsed_sections": [],
   "private_outputs": true,
   "authorship_tag": "ABX9TyPoGQt4DaM5uvNX0tA4x6DJ"
  },
  "kernelspec": {
   "name": "python3",
   "language": "python",
   "display_name": "Python 3 (ipykernel)"
  },
  "language_info": {
   "name": "python"
  }
 },
 "cells": [
  {
   "cell_type": "code",
   "source": [
    "# check if this instance of the notebook already has files present\n",
    "# and thus determine which steps required prior to reading in file and handling the data\n",
    "!ls\n"
   ],
   "metadata": {
    "id": "IfUDk8dj-iuY",
    "ExecuteTime": {
     "end_time": "2023-05-24T13:48:51.819033418Z",
     "start_time": "2023-05-24T13:48:51.704419740Z"
    }
   },
   "execution_count": 7,
   "outputs": [
    {
     "name": "stdout",
     "output_type": "stream",
     "text": [
      "data\t   spark-3.3.2-bin-hadoop3\t  week5_cycleHire.ipynb\r\n",
      "models\t   spark-3.3.2-bin-hadoop3.tgz\t  week5_wordcount.ipynb\r\n",
      "notebooks  spark-3.3.2-bin-hadoop3.tgz.1  week6_cycleHire2.ipynb\r\n",
      "README.md  venv\t\t\t\t  week6_cycleHire3.ipynb\r\n"
     ]
    }
   ]
  },
  {
   "cell_type": "code",
   "metadata": {
    "id": "40ZMzK1NEOxG",
    "ExecuteTime": {
     "end_time": "2023-05-24T13:50:12.846515857Z",
     "start_time": "2023-05-24T13:48:51.827941981Z"
    }
   },
   "source": [
    "# set-up spark (NB if Apache amend versions on download site we will need to amend path in wget command)\n",
    "## NOTE that this version would make use of Hadoop if installed BUT that HDFS & Hadoop is not installed on our Colab\n",
    "## (we are only using a single node (probably as a VM) so we will not be able to benefit from parallelism)\n",
    "!clear\n",
    "!echo welcome\n",
    "\n",
    "!rm -f spark-3.3.[01]-bin-hadoop3.tgz* \n",
    "!rm -rf spark-3.3.[01]-bin-hadoop3\n",
    "\n",
    "!apt-get install openjdk-8-jdk-headless -qq > /dev/null\n",
    "!wget https://downloads.apache.org/spark/spark-3.3.2/spark-3.3.2-bin-hadoop3.tgz\n",
    "!tar -xf spark-3.3.2-bin-hadoop3.tgz\n",
    "\n",
    "!ls -alt\n",
    "print(\"standalone Spark is now installed\")"
   ],
   "execution_count": 8,
   "outputs": [
    {
     "name": "stdout",
     "output_type": "stream",
     "text": [
      "\u001B[H\u001B[2Jwelcome\r\n",
      "/bin/bash: line 1: apt-get: command not found\r\n",
      "--2023-05-24 14:48:52--  https://downloads.apache.org/spark/spark-3.3.2/spark-3.3.2-bin-hadoop3.tgz\r\n",
      "Loaded CA certificate '/etc/ssl/certs/ca-certificates.crt'\r\n",
      "Resolving downloads.apache.org (downloads.apache.org)... 2a01:4f8:10a:201a::2, 2a01:4f9:3a:2c57::2, 88.99.95.219, ...\r\n",
      "Connecting to downloads.apache.org (downloads.apache.org)|2a01:4f8:10a:201a::2|:443... connected.\r\n",
      "HTTP request sent, awaiting response... 200 OK\r\n",
      "Length: 299360284 (285M) [application/x-gzip]\r\n",
      "Saving to: ‘spark-3.3.2-bin-hadoop3.tgz.2’\r\n",
      "\r\n",
      "spark-3.3.2-bin-had 100%[===================>] 285.49M  4.23MB/s    in 77s     \r\n",
      "\r\n",
      "2023-05-24 14:50:10 (3.70 MB/s) - ‘spark-3.3.2-bin-hadoop3.tgz.2’ saved [299360284/299360284]\r\n",
      "\r\n",
      "total 877108\r\n",
      "drwxr-xr-x 1 seirra seirra       470 May 24 14:48 .\r\n",
      "-rw-r--r-- 1 seirra seirra     15838 May 24 14:48 week5_cycleHire.ipynb\r\n",
      "drwxr-xr-x 1 seirra seirra       224 May 24 14:38 .idea\r\n",
      "drwxr-xr-x 1 seirra seirra       148 May 24 14:14 .git\r\n",
      "drwxr-xr-x 1 seirra seirra        62 May 24 14:10 venv\r\n",
      "drwxr-xr-x 1 seirra seirra         0 May 24 13:50 notebooks\r\n",
      "drwxr-xr-x 1 seirra seirra         0 May 24 13:50 models\r\n",
      "drwxr-xr-x 1 seirra seirra         0 May 24 13:50 data\r\n",
      "-rw-r--r-- 1 seirra seirra       315 May 24 13:45 README.md\r\n",
      "-rw-r--r-- 1 seirra seirra      6426 May 24 13:45 week5_wordcount.ipynb\r\n",
      "-rw-r--r-- 1 seirra seirra     13901 May 24 13:45 week6_cycleHire2.ipynb\r\n",
      "-rw-r--r-- 1 seirra seirra     17005 May 24 13:45 week6_cycleHire3.ipynb\r\n",
      "drwxr-xr-x 1 seirra seirra      1940 May 24 13:45 ..\r\n",
      "-rw-r--r-- 1 seirra seirra 299360284 Feb 10 21:28 spark-3.3.2-bin-hadoop3.tgz\r\n",
      "-rw-r--r-- 1 seirra seirra 299360284 Feb 10 21:28 spark-3.3.2-bin-hadoop3.tgz.1\r\n",
      "-rw-r--r-- 1 seirra seirra 299360284 Feb 10 21:28 spark-3.3.2-bin-hadoop3.tgz.2\r\n",
      "drwxr-xr-x 1 seirra seirra       170 Feb 10 20:40 spark-3.3.2-bin-hadoop3\r\n",
      "standalone Spark is now installed\n"
     ]
    }
   ]
  },
  {
   "cell_type": "code",
   "metadata": {
    "id": "7ZguLonUE-js",
    "ExecuteTime": {
     "end_time": "2023-05-24T13:50:18.696739490Z",
     "start_time": "2023-05-24T13:50:12.851712584Z"
    }
   },
   "source": [
    "# init spark (ensure SPARK_HOME set to same version as we download earlier)\n",
    "!pip3 install findspark\n",
    "import os\n",
    "os.environ[\"JAVA_HOME\"] = \"/usr/lib/jvm/java-8-openjdk-amd64\"\n",
    "os.environ[\"SPARK_HOME\"] = \"/opt/apache-spark\"\n",
    "import findspark\n",
    "findspark.init()\n",
    "from pyspark import SparkConf, SparkContext\n",
    "# the next line gives us 'local' mode. try 'local[2]' to use 2 cores or 'master:NNNN' to run on Spark standalone cluster at port NNNN\n",
    "spark_conf = SparkConf().setMaster('local[2]').setAppName('MyApp')\n",
    "sc = SparkContext(conf=spark_conf)\n",
    "# see what we have by examining the Spark User Interface\n",
    "from pyspark.sql import *\n",
    "from pyspark.sql.functions import *\n",
    "SparkSession.builder.getOrCreate()\n",
    "## "
   ],
   "execution_count": 9,
   "outputs": [
    {
     "name": "stdout",
     "output_type": "stream",
     "text": [
      "Requirement already satisfied: findspark in ./venv/lib/python3.10/site-packages (2.0.1)\r\n",
      "\r\n",
      "\u001B[1m[\u001B[0m\u001B[34;49mnotice\u001B[0m\u001B[1;39;49m]\u001B[0m\u001B[39;49m A new release of pip available: \u001B[0m\u001B[31;49m22.2.2\u001B[0m\u001B[39;49m -> \u001B[0m\u001B[32;49m23.1.2\u001B[0m\r\n",
      "\u001B[1m[\u001B[0m\u001B[34;49mnotice\u001B[0m\u001B[1;39;49m]\u001B[0m\u001B[39;49m To update, run: \u001B[0m\u001B[32;49mpip install --upgrade pip\u001B[0m\r\n"
     ]
    },
    {
     "name": "stderr",
     "output_type": "stream",
     "text": [
      "Setting default log level to \"WARN\".\n",
      "To adjust logging level use sc.setLogLevel(newLevel). For SparkR, use setLogLevel(newLevel).\n"
     ]
    },
    {
     "name": "stdout",
     "output_type": "stream",
     "text": [
      "23/05/24 14:50:16 WARN NativeCodeLoader: Unable to load native-hadoop library for your platform... using builtin-java classes where applicable\n"
     ]
    },
    {
     "data": {
      "text/plain": "<pyspark.sql.session.SparkSession at 0x7f2ace599180>",
      "text/html": "\n            <div>\n                <p><b>SparkSession - in-memory</b></p>\n                \n        <div>\n            <p><b>SparkContext</b></p>\n\n            <p><a href=\"http://localhost:4040\">Spark UI</a></p>\n\n            <dl>\n              <dt>Version</dt>\n                <dd><code>v3.3.0</code></dd>\n              <dt>Master</dt>\n                <dd><code>local[2]</code></dd>\n              <dt>AppName</dt>\n                <dd><code>MyApp</code></dd>\n            </dl>\n        </div>\n        \n            </div>\n        "
     },
     "execution_count": 9,
     "metadata": {},
     "output_type": "execute_result"
    }
   ]
  },
  {
   "cell_type": "code",
   "metadata": {
    "id": "ABQESgtdFZxa",
    "ExecuteTime": {
     "end_time": "2023-05-24T13:50:18.697755716Z",
     "start_time": "2023-05-24T13:50:18.690489869Z"
    }
   },
   "source": [
    "## this is how one could upload a file into colab using the colab GUI (uncomment both lines if want to try it)\n",
    "\n",
    "#from google.colab import files\n",
    "#files.upload()\n"
   ],
   "execution_count": 10,
   "outputs": []
  },
  {
   "cell_type": "code",
   "metadata": {
    "id": "CHbddaLQUNwo",
    "ExecuteTime": {
     "end_time": "2023-05-24T13:52:52.572609416Z",
     "start_time": "2023-05-24T13:50:18.697242951Z"
    }
   },
   "source": [
    "# get file for given year from TfL open data\n",
    "!wget https://cycling.data.tfl.gov.uk/usage-stats/cyclehireusagestats-2014.zip\n",
    "!unzip cyclehireusagestats-2014.zip"
   ],
   "execution_count": 11,
   "outputs": [
    {
     "name": "stdout",
     "output_type": "stream",
     "text": [
      "--2023-05-24 14:50:18--  https://cycling.data.tfl.gov.uk/usage-stats/cyclehireusagestats-2014.zip\r\n",
      "Loaded CA certificate '/etc/ssl/certs/ca-certificates.crt'\r\n",
      "Resolving cycling.data.tfl.gov.uk (cycling.data.tfl.gov.uk)... 64:ff9b::6810:650d, 64:ff9b::6810:640d, 104.16.100.13, ...\r\n",
      "Connecting to cycling.data.tfl.gov.uk (cycling.data.tfl.gov.uk)|64:ff9b::6810:650d|:443... connected.\r\n",
      "HTTP request sent, awaiting response... 200 OK\r\n",
      "Length: 225215129 (215M) [application/zip]\r\n",
      "Saving to: ‘cyclehireusagestats-2014.zip’\r\n",
      "\r\n",
      "cyclehireusagestats 100%[===================>] 214.78M  2.13MB/s    in 2m 27s  \r\n",
      "\r\n",
      "2023-05-24 14:52:46 (1.46 MB/s) - ‘cyclehireusagestats-2014.zip’ saved [225215129/225215129]\r\n",
      "\r\n",
      "Archive:  cyclehireusagestats-2014.zip\r\n",
      "  inflating: 1. Journey Data Extract 05Jan14-02Feb14.csv  \r\n",
      "  inflating: 10a. Journey Data Extract 14Sep14-27Sep14.csv  \r\n",
      "  inflating: 10b. Journey Data Extract 28Sep14-11Oct14.csv  \r\n",
      "  inflating: 11a. Journey Data Extract 12Oct14-08Nov14.csv  \r\n",
      "  inflating: 11b. Journey Data Extract 12Oct14-08Nov14.csv  \r\n",
      "  inflating: 12a. Journey Data Extract 09Nov14-06Dec14.csv  \r\n",
      "  inflating: 12b. Journey Data Extract 09Nov14-06Dec14.csv  \r\n",
      "  inflating: 13a. Journey Data Extract 07Dec14-21Dec14.csv  \r\n",
      "  inflating: 13b. Journey Data Extract 22Dec14-03Jan15.csv  \r\n",
      "  inflating: 14. Journey Data Extract 08Dec13-04Jan14.csv  \r\n",
      "  inflating: 2. Journey Data Extract 03Feb14-01Mar14.csv  \r\n",
      "  inflating: 3. Journey Data Extract 02Mar14-31Mar14.csv  \r\n",
      "  inflating: 4. Journey Data Extract 01Apr14-26Apr14.csv  \r\n",
      "  inflating: 5. Journey Data Extract 27Apr14-24May14.csv  \r\n",
      "  inflating: 6. Journey Data Extract 25May14-21Jun14.csv  \r\n",
      "  inflating: 7. Journey Data Extract 22Jun14-19Jul14.csv  \r\n",
      "  inflating: 8a Journey Data Extract 20Jul14-31Jul14.csv  \r\n",
      "  inflating: 8b Journey Data Extract 01Aug14-16Aug14.csv  \r\n",
      "  inflating: 9a Journey Data Extract 17Aug14-31Aug14.csv  \r\n",
      "  inflating: 9b Journey Data Extract 01Sep14-13Sep14.csv  \r\n"
     ]
    }
   ]
  },
  {
   "cell_type": "code",
   "source": [
    "# at this point we have Spark initialised and we have a number of CSV files. \n",
    "# NB you can try also download the zipfile to your host machine and try opening in Excel (Win)\n",
    "# (in Linux, easiest to open a file manager GUI then double-click on .csv file to open associated spreadsheet app)"
   ],
   "metadata": {
    "id": "wgH7CS0VBLPX",
    "ExecuteTime": {
     "end_time": "2023-05-24T13:52:52.587770784Z",
     "start_time": "2023-05-24T13:52:52.583811824Z"
    }
   },
   "execution_count": 12,
   "outputs": []
  },
  {
   "cell_type": "code",
   "metadata": {
    "id": "CmIQqnIFGKKl",
    "ExecuteTime": {
     "end_time": "2023-05-24T13:53:17.783067616Z",
     "start_time": "2023-05-24T13:52:52.591822478Z"
    }
   },
   "source": [
    "# read in file\n",
    "!ls\n",
    "file=\"./1. Journey*csv\"\n",
    "spark = SparkSession.builder.appName(\"bikes\").getOrCreate()\n",
    "j_df = (spark.read.format(\"csv\")\n",
    "         .option(\"header\", \"true\")\n",
    "         .option(\"inferSchema\", \"true\")\n",
    "         .load(file))\n",
    "\n",
    "# show top 10\n",
    "j_df.show(10)"
   ],
   "execution_count": 13,
   "outputs": [
    {
     "name": "stdout",
     "output_type": "stream",
     "text": [
      "'10a. Journey Data Extract 14Sep14-27Sep14.csv'\r\n",
      "'10b. Journey Data Extract 28Sep14-11Oct14.csv'\r\n",
      "'11a. Journey Data Extract 12Oct14-08Nov14.csv'\r\n",
      "'11b. Journey Data Extract 12Oct14-08Nov14.csv'\r\n",
      "'12a. Journey Data Extract 09Nov14-06Dec14.csv'\r\n",
      "'12b. Journey Data Extract 09Nov14-06Dec14.csv'\r\n",
      "'13a. Journey Data Extract 07Dec14-21Dec14.csv'\r\n",
      "'13b. Journey Data Extract 22Dec14-03Jan15.csv'\r\n",
      "'14. Journey Data Extract 08Dec13-04Jan14.csv'\r\n",
      "'1. Journey Data Extract 05Jan14-02Feb14.csv'\r\n",
      "'2. Journey Data Extract 03Feb14-01Mar14.csv'\r\n",
      "'3. Journey Data Extract 02Mar14-31Mar14.csv'\r\n",
      "'4. Journey Data Extract 01Apr14-26Apr14.csv'\r\n",
      "'5. Journey Data Extract 27Apr14-24May14.csv'\r\n",
      "'6. Journey Data Extract 25May14-21Jun14.csv'\r\n",
      "'7. Journey Data Extract 22Jun14-19Jul14.csv'\r\n",
      "'8a Journey Data Extract 20Jul14-31Jul14.csv'\r\n",
      "'8b Journey Data Extract 01Aug14-16Aug14.csv'\r\n",
      "'9a Journey Data Extract 17Aug14-31Aug14.csv'\r\n",
      "'9b Journey Data Extract 01Sep14-13Sep14.csv'\r\n",
      " cyclehireusagestats-2014.zip\r\n",
      " data\r\n",
      " models\r\n",
      " notebooks\r\n",
      " README.md\r\n",
      " spark-3.3.2-bin-hadoop3\r\n",
      " spark-3.3.2-bin-hadoop3.tgz\r\n",
      " spark-3.3.2-bin-hadoop3.tgz.1\r\n",
      " spark-3.3.2-bin-hadoop3.tgz.2\r\n",
      " venv\r\n",
      " week5_cycleHire.ipynb\r\n",
      " week5_wordcount.ipynb\r\n",
      " week6_cycleHire2.ipynb\r\n",
      " week6_cycleHire3.ipynb\r\n",
      "23/05/24 14:52:53 WARN SparkSession: Using an existing Spark session; only runtime SQL configurations will take effect.\n"
     ]
    },
    {
     "name": "stderr",
     "output_type": "stream",
     "text": [
      "                                                                                \r"
     ]
    },
    {
     "name": "stdout",
     "output_type": "stream",
     "text": [
      "+---------+--------+-------+----------------+-------------+--------------------+----------------+---------------+--------------------+\n",
      "|Rental Id|Duration|Bike Id|        End Date|EndStation Id|     EndStation Name|      Start Date|StartStation Id|   StartStation Name|\n",
      "+---------+--------+-------+----------------+-------------+--------------------+----------------+---------------+--------------------+\n",
      "| 29747123|    1140|    469|05/01/2014 15:54|           55|Finsbury Circus, ...|05/01/2014 15:35|            295|Swan Street, The ...|\n",
      "| 29764212|    1560|   6924|06/01/2014 23:30|           93|Cloudesley Road, ...|06/01/2014 23:04|            311|Foley Street, Fit...|\n",
      "| 29824742|    1200|   4115|09/01/2014 23:25|          697|Charlotte Terrace...|09/01/2014 23:05|             81|Great Titchfield ...|\n",
      "| 29966133|    1380|   2077|17/01/2014 14:06|          695|Islington Green, ...|17/01/2014 13:43|            311|Foley Street, Fit...|\n",
      "| 29992354|    1320|  12069|18/01/2014 21:06|          257|Westminster Unive...|18/01/2014 20:44|            225|Notting Hill Gate...|\n",
      "| 30079901|    1080|    799|22/01/2014 23:38|          697|Charlotte Terrace...|22/01/2014 23:20|            311|Foley Street, Fit...|\n",
      "| 30137153|    1440|    590|25/01/2014 21:11|          191|Hyde Park Corner,...|25/01/2014 20:47|            730|Bridge Avenue, Ha...|\n",
      "| 30186525|    1440|   2260|28/01/2014 23:27|          697|Charlotte Terrace...|28/01/2014 23:03|              6|Broadcasting Hous...|\n",
      "| 29981026|    1200|   1246|18/01/2014 12:25|          233|Pall Mall East, W...|18/01/2014 12:05|            430|South Parade, Che...|\n",
      "| 29926530|     480|   4405|15/01/2014 12:42|           72|Farringdon Lane, ...|15/01/2014 12:34|            331|Bunhill Row, Moor...|\n",
      "+---------+--------+-------+----------------+-------------+--------------------+----------------+---------------+--------------------+\n",
      "only showing top 10 rows\n",
      "\n"
     ]
    }
   ]
  },
  {
   "cell_type": "code",
   "metadata": {
    "id": "uTOpwdrwJ5zU",
    "ExecuteTime": {
     "end_time": "2023-05-24T13:53:19.277272175Z",
     "start_time": "2023-05-24T13:53:17.791328798Z"
    }
   },
   "source": [
    "# group \"StartStation Id\" and sum their \"Duration\" (seconds), sort in descending order\n",
    "start_df = (j_df.select(\"StartStation Id\", \"StartStation Name\", \"EndStation Id\", \"EndStation Name\",\"Duration\").groupBy(\"StartStation Id\", \"StartStation Name\")).sum(\"Duration\").orderBy(\"sum(Duration)\", ascending=False)\n",
    "# show top 10\n",
    "start_df.show(10)\n",
    "print('Note \"Duration\" is in seconds (see above table)')"
   ],
   "execution_count": 14,
   "outputs": [
    {
     "name": "stderr",
     "output_type": "stream",
     "text": [
      "[Stage 3:>                                                          (0 + 2) / 2]\r"
     ]
    },
    {
     "name": "stdout",
     "output_type": "stream",
     "text": [
      "+---------------+--------------------+-------------+\n",
      "|StartStation Id|   StartStation Name|sum(Duration)|\n",
      "+---------------+--------------------+-------------+\n",
      "|            191|Hyde Park Corner,...|      8692560|\n",
      "|            154|Waterloo Station ...|      4865400|\n",
      "|            303|Albert Gate, Hyde...|      4572960|\n",
      "|             14|Belgrove Street ,...|      4550760|\n",
      "|            307|Black Lion Gate, ...|      4208160|\n",
      "|            591|Westfield Library...|      4192860|\n",
      "|            406|Speakers' Corner ...|      3508680|\n",
      "|            229|Whitehall Place, ...|      3461400|\n",
      "|             41|Sun Street, Liver...|      3256500|\n",
      "|            625|Queen's Circus, B...|      3218280|\n",
      "+---------------+--------------------+-------------+\n",
      "only showing top 10 rows\n",
      "\n",
      "Note \"Duration\" is in seconds (see above table)\n"
     ]
    },
    {
     "name": "stderr",
     "output_type": "stream",
     "text": [
      "                                                                                \r"
     ]
    }
   ]
  },
  {
   "cell_type": "code",
   "metadata": {
    "id": "u7-C-ZNNJ_uZ",
    "ExecuteTime": {
     "end_time": "2023-05-24T13:53:19.978071766Z",
     "start_time": "2023-05-24T13:53:19.279972318Z"
    }
   },
   "source": [
    "# group \"EndStation Id\" and sum their \"Duration\", sort in descending order\n",
    "end_df = (j_df.select(\"EndStation Id\", \"EndStation Name\", \"EndStation Id\", \"EndStation Name\",\"Duration\").groupBy(\"EndStation Id\", \"EndStation Name\")).sum(\"Duration\").orderBy(\"sum(Duration)\", ascending=False)\n",
    "# show top 10\n",
    "end_df.show(10)"
   ],
   "execution_count": 15,
   "outputs": [
    {
     "name": "stdout",
     "output_type": "stream",
     "text": [
      "+-------------+--------------------+-------------+\n",
      "|EndStation Id|     EndStation Name|sum(Duration)|\n",
      "+-------------+--------------------+-------------+\n",
      "|          346|Mechanical Worksh...|     12774420|\n",
      "|          191|Hyde Park Corner,...|      5506440|\n",
      "|           14|Belgrove Street ,...|      4280880|\n",
      "|          154|Waterloo Station ...|      4001400|\n",
      "|          303|Albert Gate, Hyde...|      3440040|\n",
      "|          307|Black Lion Gate, ...|      3363480|\n",
      "|          194|Hop Exchange, The...|      3090960|\n",
      "|          710|Albert Bridge Roa...|      3061620|\n",
      "|          374|Waterloo Station ...|      3002100|\n",
      "|          217|Wormwood Street, ...|      2938260|\n",
      "+-------------+--------------------+-------------+\n",
      "only showing top 10 rows\n",
      "\n"
     ]
    }
   ]
  },
  {
   "cell_type": "code",
   "source": [
    "# find rows where Duration is zero\n",
    "j_df.filter(\"Duration = 0\").count()"
   ],
   "metadata": {
    "id": "gepK_gVwBxYx",
    "ExecuteTime": {
     "end_time": "2023-05-24T13:53:20.420312200Z",
     "start_time": "2023-05-24T13:53:19.979381569Z"
    }
   },
   "execution_count": 16,
   "outputs": [
    {
     "data": {
      "text/plain": "1543"
     },
     "execution_count": 16,
     "metadata": {},
     "output_type": "execute_result"
    }
   ]
  },
  {
   "cell_type": "code",
   "source": [
    "# TO DO: determine how many rows have Duration of over a day"
   ],
   "metadata": {
    "id": "2x-3UKLDOdbR",
    "ExecuteTime": {
     "end_time": "2023-05-24T13:53:20.700956562Z",
     "start_time": "2023-05-24T13:53:20.420579504Z"
    }
   },
   "execution_count": 17,
   "outputs": []
  },
  {
   "cell_type": "code",
   "source": [
    "# try simple plot via pandas (we cover plotting again in demo#3)\n",
    "import matplotlib.pyplot as plt\n",
    "import pandas as pd\n",
    "\n",
    "\n",
    "non_zeros_df = j_df.filter(\"Duration > 0\")\n",
    "# plot those with duration less than 1800 seconds (0.5 hrs)\n",
    "pd_df = non_zeros_df.filter(\"Duration<1800\")[[\"Duration\"]].toPandas()\n",
    "print(\"sample of \",pd_df.count())\n",
    "\n",
    "pd_df.plot(kind=\"hist\") # do without and then repeat but set #bins same as Excel (presume 94 bins)\n",
    "plt.show()"
   ],
   "metadata": {
    "id": "2p3gHiap-Vom",
    "ExecuteTime": {
     "end_time": "2023-05-24T13:53:26.873620121Z",
     "start_time": "2023-05-24T13:53:20.707815861Z"
    }
   },
   "execution_count": 18,
   "outputs": [
    {
     "name": "stdout",
     "output_type": "stream",
     "text": [
      "sample of  Duration    428946\n",
      "dtype: int64\n"
     ]
    },
    {
     "data": {
      "text/plain": "<Figure size 640x480 with 1 Axes>",
      "image/png": "[encoded data removed]"
     },
     "metadata": {},
     "output_type": "display_data"
    }
   ]
  },
  {
   "cell_type": "code",
   "source": [
    "# TO DO: determine %age of rides >3 days and interpret what this means\n",
    "# TO DO: chose a different input file and compare outputs, discuss what this means (=> sim to first steps you will take in your assignment)"
   ],
   "metadata": {
    "id": "xpqkgqVGLdzo",
    "ExecuteTime": {
     "end_time": "2023-05-24T13:53:26.874082472Z",
     "start_time": "2023-05-24T13:53:26.872484341Z"
    }
   },
   "execution_count": 19,
   "outputs": []
  },
  {
   "cell_type": "markdown",
   "metadata": {
    "id": "MY1mYBvAVNEd"
   },
   "source": [
    "ideas for what we would want to do next\n",
    "*   read all files and get top 10 source and top 10 dest stations\n",
    "*   link with geo data to plot routes (heatmap for popularity)\n",
    "*   use geo data to group (e.g. all Hyde Park as single entity)\n",
    "*   compare top sites by month (or by weather (new dataset))\n",
    "*   what dataset would we need to 'join' to determine safest routes?\n",
    "*   can we determine popular routes by 'mode' (e.g. short, day hire, commuting etc)\n",
    "\n",
    "\n",
    "\n",
    "\n",
    "\n",
    "\n",
    "\n",
    "\n",
    "\n",
    "\n",
    ">"
   ]
  }
 ]
}
